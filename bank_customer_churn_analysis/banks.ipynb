{
 "cells": [
  {
   "cell_type": "markdown",
   "id": "94ff3a0e",
   "metadata": {},
   "source": [
    "## Материалы ##\n",
    "\n",
    "Презентация: https://drive.google.com/drive/folders/1SQeZwarTYlTH52erfNX6lRPrUZBSD8He?usp=sharing"
   ]
  },
  {
   "cell_type": "markdown",
   "id": "f49d1fa4",
   "metadata": {},
   "source": [
    "Дэшборд: https://public.tableau.com/app/profile/vladimir.kharitonov/viz/final_dash_16809009758540/Dashboard1?publish=yes"
   ]
  },
  {
   "cell_type": "markdown",
   "id": "9ea434d2",
   "metadata": {},
   "source": [
    "# «Метанпромбанк» — деньги не пахнут! #"
   ]
  },
  {
   "cell_type": "markdown",
   "id": "3aad1c56",
   "metadata": {},
   "source": [
    "### Задача**:**\n",
    "\n",
    "Проанализируйте клиентов регионального банка и сегментируйте пользователей по количеству потребляемых продуктов, обращая особое внимание на отток.\n",
    "\n",
    "- Проведите исследовательский анализ данных,\n",
    "- Сегментируйте пользователей на основе данных о количестве потребляемых продуктов,\n",
    "- Сформулируйте и проверьте статистические гипотезы.\n",
    "    \n",
    "    *Проверьте гипотезу различия возраста между теми клиентами, которые пользуются двумя продуктами банка, и теми, которые пользуются одним.*\n",
    "    \n",
    "    *Сформулируйте и проверьте статистическую гипотезу относительно представленных данных.*"
   ]
  },
  {
   "cell_type": "markdown",
   "id": "2c6b6772",
   "metadata": {},
   "source": [
    "## Декомпозиция ##"
   ]
  },
  {
   "cell_type": "markdown",
   "id": "7a94f505",
   "metadata": {},
   "source": [
    "1. Открытие и предобработка данных\n",
    "    \n",
    "    1.1 Загрузить данные\n",
    "    \n",
    "    1.2 Посмотреть общую информацию о датафрейме\n",
    "    \n",
    "    1.3 Посмотреть в каких столбцах есть пропуски и изучить их природу\n",
    "    \n",
    "    1.4 Заполнить пропуски там, где есть необходимость. Особенно обратить внимание на баланс"
   ]
  },
  {
   "cell_type": "markdown",
   "id": "7e767d2d",
   "metadata": {},
   "source": [
    "    1.5 Изучить дубликаты, удалить явные дубликаты\n",
    "    \n",
    "    1.6 Изменить типы данных в столбцах, где есть необходимость\n",
    "    \n",
    "    1.7 Найти и устранить аномальные значения\n",
    "    \n",
    "    1.8 Добавить столбцы для исследования корреляций по городам, полу"
   ]
  },
  {
   "cell_type": "markdown",
   "id": "d52b2537",
   "metadata": {},
   "source": [
    "2. Исследовательский анализ данных\n",
    "\n",
    "    2.1 Построение матрицы корреляций"
   ]
  },
  {
   "cell_type": "markdown",
   "id": "cc6f2773",
   "metadata": {},
   "source": [
    "    2.2 Определить портреты пользователей"
   ]
  },
  {
   "cell_type": "markdown",
   "id": "a5d73a26",
   "metadata": {},
   "source": [
    "    2.3 Проверка статистических гипотез"
   ]
  },
  {
   "cell_type": "markdown",
   "id": "760049b5",
   "metadata": {},
   "source": [
    "    2.4 Выделить показатели, влияющие на потребление продуктов"
   ]
  },
  {
   "cell_type": "markdown",
   "id": "6aa61150",
   "metadata": {},
   "source": [
    "    2.5 Провести сегментацию клиентов, выделить проблемные сегменты, в которых высокая доля отточных клиентов"
   ]
  },
  {
   "cell_type": "markdown",
   "id": "804c8ba7",
   "metadata": {},
   "source": [
    "3. Сделать выводы и привести рекомендации"
   ]
  },
  {
   "cell_type": "markdown",
   "id": "de284d47",
   "metadata": {},
   "source": [
    "## Описание проекта ##\n",
    "\n",
    "### Задача**:**\n",
    "\n",
    "Проанализируйте клиентов регионального банка и сегментируйте пользователей по количеству потребляемых продуктов, обращая особое внимание на отток.\n",
    "\n",
    "- Проведите исследовательский анализ данных,\n",
    "- Сегментируйте пользователей на основе данных о количестве потребляемых продуктов,\n",
    "- Сформулируйте и проверьте статистические гипотезы.\n",
    "    \n",
    "    *Проверьте гипотезу различия возраста между теми клиентами, которые пользуются двумя продуктами банка, и теми, которые пользуются одним.*\n",
    "    \n",
    "    *Сформулируйте и проверьте статистическую гипотезу относительно представленных данных.*\n",
    "    \n",
    "**Исходные данные.** Датасет содержит данные о клиентах банка «Метанпром». Банк располагается в Ярославле и областных городах: Ростов Великий и Рыбинск. 12 столбцов, 10 000 строк\n",
    "\n",
    "**Структура проекта:**\n",
    "\n",
    "[Часть 1. Открытие и предобработка данных](#step1)\n",
    "\n",
    "Часть 2. Исследовательский анализ данных\n",
    "\n",
    "  [2.1 Матрица корреляций](#step2_1)\n",
    "\n",
    "  [2.2 Портрет клиентов](#step2_2)\n",
    "\n",
    "[Часть 3. Проведение гипотез](#step3)\n",
    "\n",
    "[Часть 4. Сегментирование](#step4)\n",
    "\n",
    "[Часть 5. Рекомендации](#step5)\n"
   ]
  },
  {
   "cell_type": "markdown",
   "id": "1b39943a",
   "metadata": {},
   "source": [
    "## Открытие и предобработка данных ##\n",
    "\n",
    "<a id='step1'></a>"
   ]
  },
  {
   "cell_type": "code",
   "execution_count": 1,
   "id": "271e2ae7",
   "metadata": {},
   "outputs": [],
   "source": [
    "import pandas as pd\n",
    "import seaborn as sns\n",
    "import matplotlib.pyplot as plt\n",
    "import plotly.express as px\n",
    "from plotly import graph_objects as go\n",
    "from scipy import stats as st\n",
    "import numpy as np\n",
    "import os"
   ]
  },
  {
   "cell_type": "markdown",
   "id": "f98c17f6",
   "metadata": {},
   "source": [
    "Загрузим данные и посмотрим общую информацию о датафрейме.\n",
    "\n",
    "Датафрейс представляет собой 12 столбцов и 10000 строк и содержит в себе информацию о клиентах банка\n",
    "\n",
    "Главным образом, мы видим много пропущенных значений в столбце Баланс. Их природу выявим позднее\n",
    "\n",
    "Явных дубликатов не обнаружено"
   ]
  },
  {
   "cell_type": "code",
   "execution_count": 2,
   "id": "e4dc851a",
   "metadata": {},
   "outputs": [],
   "source": [
    "def read_file(file_name):\n",
    "    path1 = os.path.join('/datasets', file_name)\n",
    "    path2 = os.path.join(file_name)\n",
    "    if os.path.exists(path1):\n",
    "        data = pd.read_csv(path1)\n",
    "        return data\n",
    "    elif os.path.exists(path2):\n",
    "        data = pd.read_csv(path2)\n",
    "        return data\n",
    "    else:\n",
    "        print('File is not found')"
   ]
  },
  {
   "cell_type": "code",
   "execution_count": 3,
   "id": "84b60075",
   "metadata": {},
   "outputs": [],
   "source": [
    "data = read_file('bank_dataset.csv')"
   ]
  },
  {
   "cell_type": "code",
   "execution_count": 4,
   "id": "bffae6f8",
   "metadata": {},
   "outputs": [],
   "source": [
    "def information(df):\n",
    "    display(df.head())\n",
    "    print(' ')\n",
    "    print('Информация о таблице')\n",
    "    print(' ')\n",
    "    display(df.info())  \n",
    "    print(' ')\n",
    "    print('Пропущенные значения')\n",
    "    print(' ')\n",
    "    display(df.isna().sum())\n",
    "    print(' ')\n",
    "    print('Дубликаты')\n",
    "    print(' ')\n",
    "    display(df.duplicated().sum())\n",
    "    df.columns = [x.lower().replace(' ', '_') for x in df.columns.values]"
   ]
  },
  {
   "cell_type": "code",
   "execution_count": 5,
   "id": "80da77d0",
   "metadata": {},
   "outputs": [
    {
     "data": {
      "text/html": [
       "<div>\n",
       "<style scoped>\n",
       "    .dataframe tbody tr th:only-of-type {\n",
       "        vertical-align: middle;\n",
       "    }\n",
       "\n",
       "    .dataframe tbody tr th {\n",
       "        vertical-align: top;\n",
       "    }\n",
       "\n",
       "    .dataframe thead th {\n",
       "        text-align: right;\n",
       "    }\n",
       "</style>\n",
       "<table border=\"1\" class=\"dataframe\">\n",
       "  <thead>\n",
       "    <tr style=\"text-align: right;\">\n",
       "      <th></th>\n",
       "      <th>userid</th>\n",
       "      <th>score</th>\n",
       "      <th>City</th>\n",
       "      <th>Gender</th>\n",
       "      <th>Age</th>\n",
       "      <th>Objects</th>\n",
       "      <th>Balance</th>\n",
       "      <th>Products</th>\n",
       "      <th>CreditCard</th>\n",
       "      <th>Loyalty</th>\n",
       "      <th>estimated_salary</th>\n",
       "      <th>Churn</th>\n",
       "    </tr>\n",
       "  </thead>\n",
       "  <tbody>\n",
       "    <tr>\n",
       "      <th>0</th>\n",
       "      <td>15677338</td>\n",
       "      <td>619</td>\n",
       "      <td>Ярославль</td>\n",
       "      <td>Ж</td>\n",
       "      <td>42</td>\n",
       "      <td>2</td>\n",
       "      <td>NaN</td>\n",
       "      <td>1</td>\n",
       "      <td>1</td>\n",
       "      <td>1</td>\n",
       "      <td>101348.88</td>\n",
       "      <td>1</td>\n",
       "    </tr>\n",
       "    <tr>\n",
       "      <th>1</th>\n",
       "      <td>15690047</td>\n",
       "      <td>608</td>\n",
       "      <td>Рыбинск</td>\n",
       "      <td>Ж</td>\n",
       "      <td>41</td>\n",
       "      <td>1</td>\n",
       "      <td>83807.86</td>\n",
       "      <td>1</td>\n",
       "      <td>0</td>\n",
       "      <td>1</td>\n",
       "      <td>112542.58</td>\n",
       "      <td>0</td>\n",
       "    </tr>\n",
       "    <tr>\n",
       "      <th>2</th>\n",
       "      <td>15662040</td>\n",
       "      <td>502</td>\n",
       "      <td>Ярославль</td>\n",
       "      <td>Ж</td>\n",
       "      <td>42</td>\n",
       "      <td>8</td>\n",
       "      <td>159660.80</td>\n",
       "      <td>3</td>\n",
       "      <td>1</td>\n",
       "      <td>0</td>\n",
       "      <td>113931.57</td>\n",
       "      <td>1</td>\n",
       "    </tr>\n",
       "    <tr>\n",
       "      <th>3</th>\n",
       "      <td>15744090</td>\n",
       "      <td>699</td>\n",
       "      <td>Ярославль</td>\n",
       "      <td>Ж</td>\n",
       "      <td>39</td>\n",
       "      <td>1</td>\n",
       "      <td>NaN</td>\n",
       "      <td>2</td>\n",
       "      <td>0</td>\n",
       "      <td>0</td>\n",
       "      <td>93826.63</td>\n",
       "      <td>0</td>\n",
       "    </tr>\n",
       "    <tr>\n",
       "      <th>4</th>\n",
       "      <td>15780624</td>\n",
       "      <td>850</td>\n",
       "      <td>Рыбинск</td>\n",
       "      <td>Ж</td>\n",
       "      <td>43</td>\n",
       "      <td>2</td>\n",
       "      <td>125510.82</td>\n",
       "      <td>1</td>\n",
       "      <td>1</td>\n",
       "      <td>1</td>\n",
       "      <td>79084.10</td>\n",
       "      <td>0</td>\n",
       "    </tr>\n",
       "  </tbody>\n",
       "</table>\n",
       "</div>"
      ],
      "text/plain": [
       "     userid  score       City Gender  Age  Objects    Balance  Products  \\\n",
       "0  15677338    619  Ярославль      Ж   42        2        NaN         1   \n",
       "1  15690047    608    Рыбинск      Ж   41        1   83807.86         1   \n",
       "2  15662040    502  Ярославль      Ж   42        8  159660.80         3   \n",
       "3  15744090    699  Ярославль      Ж   39        1        NaN         2   \n",
       "4  15780624    850    Рыбинск      Ж   43        2  125510.82         1   \n",
       "\n",
       "   CreditCard  Loyalty  estimated_salary  Churn  \n",
       "0           1        1         101348.88      1  \n",
       "1           0        1         112542.58      0  \n",
       "2           1        0         113931.57      1  \n",
       "3           0        0          93826.63      0  \n",
       "4           1        1          79084.10      0  "
      ]
     },
     "metadata": {},
     "output_type": "display_data"
    },
    {
     "name": "stdout",
     "output_type": "stream",
     "text": [
      " \n",
      "Информация о таблице\n",
      " \n",
      "<class 'pandas.core.frame.DataFrame'>\n",
      "RangeIndex: 10000 entries, 0 to 9999\n",
      "Data columns (total 12 columns):\n",
      " #   Column            Non-Null Count  Dtype  \n",
      "---  ------            --------------  -----  \n",
      " 0   userid            10000 non-null  int64  \n",
      " 1   score             10000 non-null  int64  \n",
      " 2   City              10000 non-null  object \n",
      " 3   Gender            10000 non-null  object \n",
      " 4   Age               10000 non-null  int64  \n",
      " 5   Objects           10000 non-null  int64  \n",
      " 6   Balance           6383 non-null   float64\n",
      " 7   Products          10000 non-null  int64  \n",
      " 8   CreditCard        10000 non-null  int64  \n",
      " 9   Loyalty           10000 non-null  int64  \n",
      " 10  estimated_salary  10000 non-null  float64\n",
      " 11  Churn             10000 non-null  int64  \n",
      "dtypes: float64(2), int64(8), object(2)\n",
      "memory usage: 937.6+ KB\n"
     ]
    },
    {
     "data": {
      "text/plain": [
       "None"
      ]
     },
     "metadata": {},
     "output_type": "display_data"
    },
    {
     "name": "stdout",
     "output_type": "stream",
     "text": [
      " \n",
      "Пропущенные значения\n",
      " \n"
     ]
    },
    {
     "data": {
      "text/plain": [
       "userid                 0\n",
       "score                  0\n",
       "City                   0\n",
       "Gender                 0\n",
       "Age                    0\n",
       "Objects                0\n",
       "Balance             3617\n",
       "Products               0\n",
       "CreditCard             0\n",
       "Loyalty                0\n",
       "estimated_salary       0\n",
       "Churn                  0\n",
       "dtype: int64"
      ]
     },
     "metadata": {},
     "output_type": "display_data"
    },
    {
     "name": "stdout",
     "output_type": "stream",
     "text": [
      " \n",
      "Дубликаты\n",
      " \n"
     ]
    },
    {
     "data": {
      "text/plain": [
       "0"
      ]
     },
     "metadata": {},
     "output_type": "display_data"
    }
   ],
   "source": [
    "information(data)"
   ]
  },
  {
   "cell_type": "code",
   "execution_count": 6,
   "id": "3fe80fc3",
   "metadata": {},
   "outputs": [
    {
     "data": {
      "text/plain": [
       "array(['Ярославль', 'Рыбинск', 'Ростов Великий'], dtype=object)"
      ]
     },
     "execution_count": 6,
     "metadata": {},
     "output_type": "execute_result"
    }
   ],
   "source": [
    "data.city.unique()"
   ]
  },
  {
   "cell_type": "markdown",
   "id": "69e9f9ba",
   "metadata": {},
   "source": [
    "Отступим от плана декомпозиции и сначала создадим категориальные столбцы для каждого города и пола, чтобы корректнее оценить природу пропусков"
   ]
  },
  {
   "cell_type": "code",
   "execution_count": 7,
   "id": "e2e60919",
   "metadata": {
    "scrolled": false
   },
   "outputs": [],
   "source": [
    "data['city_yaroslavl'] = data['userid'].isin(data.loc[data['city'] == 'Ярославль']['userid']).replace({True:1, False:0})\n",
    "data['city_rybinsk'] = data['userid'].isin(data.loc[data['city'] == 'Рыбинск']['userid']).replace({True:1, False:0})\n",
    "data['city_rostov'] = data['userid'].isin(data.loc[data['city'] == 'Ростов Великий']['userid']).replace({True:1, False:0})\n",
    "data['gender_m'] = data['userid'].isin(data.loc[data['gender'] == 'М']['userid']).replace({True:1, False:0})\n",
    "data['gender_w'] = data['userid'].isin(data.loc[data['gender'] == 'Ж']['userid']).replace({True:1, False:0})"
   ]
  },
  {
   "cell_type": "code",
   "execution_count": 8,
   "id": "b4557c98",
   "metadata": {},
   "outputs": [],
   "source": [
    "no_credit = []\n",
    "for i in range(len(data['creditcard'])):\n",
    "    if data['creditcard'][i] == 1:\n",
    "        no_credit.append(-1)\n",
    "    else:\n",
    "        no_credit.append(0)\n"
   ]
  },
  {
   "cell_type": "code",
   "execution_count": 9,
   "id": "1d161b27",
   "metadata": {},
   "outputs": [],
   "source": [
    "no_credit = pd.Series(no_credit)\n",
    "data['products_no_credit'] = data['products'] + no_credit"
   ]
  },
  {
   "cell_type": "markdown",
   "id": "44054804",
   "metadata": {},
   "source": [
    "Построим гистограмму по балансу клиентов\n",
    "\n",
    "Мы видим, что большая часть клиентов имеет баланс от 100 000 до 150 000, нулевые значения отсутствуют. Может ли быть такое, что пропущенные значения являются нулевыми? Попробуем в этом разобраться"
   ]
  },
  {
   "cell_type": "code",
   "execution_count": 10,
   "id": "53df7e9c",
   "metadata": {},
   "outputs": [
    {
     "data": {
      "image/png": "[encoded data removed]",
      "text/plain": [
       "<Figure size 640x480 with 1 Axes>"
      ]
     },
     "metadata": {},
     "output_type": "display_data"
    }
   ],
   "source": [
    "sns.histplot(data['balance'])\n",
    "plt.show()"
   ]
  },
  {
   "cell_type": "markdown",
   "id": "71fadd41",
   "metadata": {},
   "source": [
    "Рассчитаем, какой процентов пропусков приходится на каждый новый созданный столбец, а также другие:\n",
    "\n",
    "**Выводы**:\n",
    "\n",
    "* Больше всего пропусков среди клиентов Ярославля и мужчин\n",
    "* В Ростове Великом пропущенных значений нет\n",
    "* Более 72 % клиентов-владельцев кредитной карты имеют пропуски в балансе\n",
    "\n",
    "Сложно объяснить, почему присутствуют пропуски в столбцах с балансом, данные пропуски относятся к типу MNAR, оставим их как есть\n"
   ]
  },
  {
   "cell_type": "code",
   "execution_count": 11,
   "id": "c1b1704d",
   "metadata": {},
   "outputs": [
    {
     "name": "stdout",
     "output_type": "stream",
     "text": [
      "Среди клиентов из Ярославля пропусков в балансе: 67%\n",
      "Среди клиентов из Рыбинска пропусков в балансе: 33%\n",
      "Среди клиентов из Ростова Великого пропусков в балансе: 0%\n",
      "Среди клиентов мужского пола пропусков в балансе: 54%\n",
      "Среди клиентов женского пола пропусков в балансе: 46%\n",
      "Среди клиентов, имеющих кредитную карту, пропусков в балансе: 72%\n",
      "Среди активных клиентов пропусков в балансе: 52%\n",
      "Среди ушедших клиентов пропусков в балансе: 14%\n"
     ]
    }
   ],
   "source": [
    "print('Среди клиентов из Ярославля пропусков в балансе:',\\\n",
    "      \"{:.0%}\".format(round(data.loc[data['balance'].isna()]['city_yaroslavl'].mean(), 2)))\n",
    "print('Среди клиентов из Рыбинска пропусков в балансе:',\\\n",
    "      \"{:.0%}\".format(round(data.loc[data['balance'].isna()]['city_rybinsk'].mean(), 2)))\n",
    "print('Среди клиентов из Ростова Великого пропусков в балансе:',\\\n",
    "      \"{:.0%}\".format(round(data.loc[data['balance'].isna()]['city_rostov'].mean(), 2)))\n",
    "print('Среди клиентов мужского пола пропусков в балансе:',\\\n",
    "      \"{:.0%}\".format(round(data.loc[data['balance'].isna()]['gender_m'].mean(), 2)))\n",
    "print('Среди клиентов женского пола пропусков в балансе:',\\\n",
    "      \"{:.0%}\".format(round(data.loc[data['balance'].isna()]['gender_w'].mean(), 2)))\n",
    "print('Среди клиентов, имеющих кредитную карту, пропусков в балансе:',\\\n",
    "      \"{:.0%}\".format(round(data.loc[data['balance'].isna()]['creditcard'].mean(), 2)))\n",
    "print('Среди активных клиентов пропусков в балансе:',\\\n",
    "      \"{:.0%}\".format(round(data.loc[data['balance'].isna()]['loyalty'].mean(), 2)))\n",
    "print('Среди ушедших клиентов пропусков в балансе:',\\\n",
    "      \"{:.0%}\".format(round(data.loc[data['balance'].isna()]['churn'].mean(), 2)))"
   ]
  },
  {
   "cell_type": "markdown",
   "id": "791f6ae2",
   "metadata": {},
   "source": [
    "56% клиентов с двумя продуктами имеют пропуск в балансе, меньше всего пропусков у клиентов с одним продуктом"
   ]
  },
  {
   "cell_type": "code",
   "execution_count": 12,
   "id": "6fb23966",
   "metadata": {},
   "outputs": [
    {
     "data": {
      "text/html": [
       "<div>\n",
       "<style scoped>\n",
       "    .dataframe tbody tr th:only-of-type {\n",
       "        vertical-align: middle;\n",
       "    }\n",
       "\n",
       "    .dataframe tbody tr th {\n",
       "        vertical-align: top;\n",
       "    }\n",
       "\n",
       "    .dataframe thead th {\n",
       "        text-align: right;\n",
       "    }\n",
       "</style>\n",
       "<table border=\"1\" class=\"dataframe\">\n",
       "  <thead>\n",
       "    <tr style=\"text-align: right;\">\n",
       "      <th></th>\n",
       "      <th>products</th>\n",
       "      <th>null_bal</th>\n",
       "      <th>not_null_ball</th>\n",
       "      <th>perc</th>\n",
       "    </tr>\n",
       "  </thead>\n",
       "  <tbody>\n",
       "    <tr>\n",
       "      <th>0</th>\n",
       "      <td>1</td>\n",
       "      <td>905</td>\n",
       "      <td>5084</td>\n",
       "      <td>17.800944</td>\n",
       "    </tr>\n",
       "    <tr>\n",
       "      <th>1</th>\n",
       "      <td>2</td>\n",
       "      <td>2600</td>\n",
       "      <td>4590</td>\n",
       "      <td>56.644880</td>\n",
       "    </tr>\n",
       "    <tr>\n",
       "      <th>2</th>\n",
       "      <td>3</td>\n",
       "      <td>98</td>\n",
       "      <td>266</td>\n",
       "      <td>36.842105</td>\n",
       "    </tr>\n",
       "    <tr>\n",
       "      <th>3</th>\n",
       "      <td>4</td>\n",
       "      <td>14</td>\n",
       "      <td>60</td>\n",
       "      <td>23.333333</td>\n",
       "    </tr>\n",
       "  </tbody>\n",
       "</table>\n",
       "</div>"
      ],
      "text/plain": [
       "   products  null_bal  not_null_ball       perc\n",
       "0         1       905           5084  17.800944\n",
       "1         2      2600           4590  56.644880\n",
       "2         3        98            266  36.842105\n",
       "3         4        14             60  23.333333"
      ]
     },
     "execution_count": 12,
     "metadata": {},
     "output_type": "execute_result"
    }
   ],
   "source": [
    "bal_group = data.loc[data['balance'].isna()].groupby('products', as_index=False).agg({'userid':'count'})\n",
    "bal_group = bal_group.merge(data.groupby('products', as_index=False).agg({'userid':'count'}), on='products', how='left')\n",
    "bal_group = bal_group.rename(columns={'userid_x':'null_bal', 'userid_y':'not_null_ball'})\n",
    "bal_group['perc'] = bal_group['null_bal']*100.0/bal_group['not_null_ball']\n",
    "bal_group"
   ]
  },
  {
   "cell_type": "markdown",
   "id": "e7a6d537",
   "metadata": {},
   "source": [
    "### Исследователский анализ данных ###\n",
    "\n",
    "<a id='step2_1'></a>"
   ]
  },
  {
   "cell_type": "markdown",
   "id": "741e7905",
   "metadata": {},
   "source": [
    "Построим матрицу корреляций\n",
    "\n",
    "**Выводы:**\n",
    "\n",
    "* Слабая-умеренная положительная корреляция между уходящими клиентами и возрастом. Чем старше клиенты, тем они более подвержены уходу\n",
    "\n",
    "* Слабая отрицательная корреляция между уходящими клиентами и их активностью. Менее активные клиенты больше подвержены риску ухода\n",
    "\n",
    "* Клиенты из Ярославля и Рыбинска менее подвержены уходу. Присутствует слабая корреляция между уходом и жителями Ростова Великого\n",
    "\n",
    "* Уходу из банка более подвержены женщины (слабая корреляция)\n",
    "\n",
    "* Корреляций по продуктам не выявлено"
   ]
  },
  {
   "cell_type": "code",
   "execution_count": 13,
   "id": "8c3fe375",
   "metadata": {},
   "outputs": [
    {
     "data": {
      "image/png": "[encoded data removed]",
      "text/plain": [
       "<Figure size 2000x2000 with 2 Axes>"
      ]
     },
     "metadata": {},
     "output_type": "display_data"
    }
   ],
   "source": [
    "df_corr = data.loc[:, 'score':'gender_w'].corr()\n",
    "plt.figure(figsize=(20, 20))\n",
    "sns.heatmap(df_corr, annot = True, center = 0, fmt='.1g', cmap= 'coolwarm')\n",
    "plt.show()"
   ]
  },
  {
   "cell_type": "code",
   "execution_count": 14,
   "id": "613919de",
   "metadata": {},
   "outputs": [
    {
     "data": {
      "image/png": "[encoded data removed]",
      "text/plain": [
       "<Figure size 500x500 with 2 Axes>"
      ]
     },
     "metadata": {},
     "output_type": "display_data"
    }
   ],
   "source": [
    "plt.figure(figsize=(5, 5))\n",
    "sns.heatmap(df_corr.loc[:, ['churn']].drop('churn').sort_values('churn')\\\n",
    "            , annot = True, center = 0, fmt='.1g', cmap= 'coolwarm')\n",
    "plt.show()"
   ]
  },
  {
   "cell_type": "markdown",
   "id": "7b5ddd2f",
   "metadata": {},
   "source": [
    "\n",
    "Создадим портреты отточных и неотточных пользователей \n",
    "    \n",
    "<a id='step2_2'></a>\n"
   ]
  },
  {
   "cell_type": "code",
   "execution_count": 15,
   "id": "f70b1525",
   "metadata": {},
   "outputs": [
    {
     "data": {
      "text/html": [
       "<div>\n",
       "<style scoped>\n",
       "    .dataframe tbody tr th:only-of-type {\n",
       "        vertical-align: middle;\n",
       "    }\n",
       "\n",
       "    .dataframe tbody tr th {\n",
       "        vertical-align: top;\n",
       "    }\n",
       "\n",
       "    .dataframe thead th {\n",
       "        text-align: right;\n",
       "    }\n",
       "</style>\n",
       "<table border=\"1\" class=\"dataframe\">\n",
       "  <thead>\n",
       "    <tr style=\"text-align: right;\">\n",
       "      <th>churn</th>\n",
       "      <th>0</th>\n",
       "      <th>1</th>\n",
       "    </tr>\n",
       "  </thead>\n",
       "  <tbody>\n",
       "    <tr>\n",
       "      <th>userid</th>\n",
       "      <td>15733903.88</td>\n",
       "      <td>15732787.96</td>\n",
       "    </tr>\n",
       "    <tr>\n",
       "      <th>score</th>\n",
       "      <td>651.85</td>\n",
       "      <td>645.35</td>\n",
       "    </tr>\n",
       "    <tr>\n",
       "      <th>age</th>\n",
       "      <td>37.41</td>\n",
       "      <td>44.84</td>\n",
       "    </tr>\n",
       "    <tr>\n",
       "      <th>objects</th>\n",
       "      <td>5.03</td>\n",
       "      <td>4.93</td>\n",
       "    </tr>\n",
       "    <tr>\n",
       "      <th>balance</th>\n",
       "      <td>119535.86</td>\n",
       "      <td>120746.97</td>\n",
       "    </tr>\n",
       "    <tr>\n",
       "      <th>products</th>\n",
       "      <td>1.54</td>\n",
       "      <td>1.48</td>\n",
       "    </tr>\n",
       "    <tr>\n",
       "      <th>creditcard</th>\n",
       "      <td>0.71</td>\n",
       "      <td>0.70</td>\n",
       "    </tr>\n",
       "    <tr>\n",
       "      <th>loyalty</th>\n",
       "      <td>0.55</td>\n",
       "      <td>0.36</td>\n",
       "    </tr>\n",
       "    <tr>\n",
       "      <th>estimated_salary</th>\n",
       "      <td>99738.39</td>\n",
       "      <td>101465.68</td>\n",
       "    </tr>\n",
       "    <tr>\n",
       "      <th>city_yaroslavl</th>\n",
       "      <td>0.53</td>\n",
       "      <td>0.40</td>\n",
       "    </tr>\n",
       "    <tr>\n",
       "      <th>city_rybinsk</th>\n",
       "      <td>0.26</td>\n",
       "      <td>0.20</td>\n",
       "    </tr>\n",
       "    <tr>\n",
       "      <th>city_rostov</th>\n",
       "      <td>0.21</td>\n",
       "      <td>0.40</td>\n",
       "    </tr>\n",
       "    <tr>\n",
       "      <th>gender_m</th>\n",
       "      <td>0.57</td>\n",
       "      <td>0.44</td>\n",
       "    </tr>\n",
       "    <tr>\n",
       "      <th>gender_w</th>\n",
       "      <td>0.43</td>\n",
       "      <td>0.56</td>\n",
       "    </tr>\n",
       "    <tr>\n",
       "      <th>products_no_credit</th>\n",
       "      <td>0.84</td>\n",
       "      <td>0.78</td>\n",
       "    </tr>\n",
       "  </tbody>\n",
       "</table>\n",
       "</div>"
      ],
      "text/plain": [
       "churn                         0            1\n",
       "userid              15733903.88  15732787.96\n",
       "score                    651.85       645.35\n",
       "age                       37.41        44.84\n",
       "objects                    5.03         4.93\n",
       "balance               119535.86    120746.97\n",
       "products                   1.54         1.48\n",
       "creditcard                 0.71         0.70\n",
       "loyalty                    0.55         0.36\n",
       "estimated_salary       99738.39    101465.68\n",
       "city_yaroslavl             0.53         0.40\n",
       "city_rybinsk               0.26         0.20\n",
       "city_rostov                0.21         0.40\n",
       "gender_m                   0.57         0.44\n",
       "gender_w                   0.43         0.56\n",
       "products_no_credit         0.84         0.78"
      ]
     },
     "execution_count": 15,
     "metadata": {},
     "output_type": "execute_result"
    }
   ],
   "source": [
    "data.groupby('churn').mean().T.round(2)"
   ]
  },
  {
   "cell_type": "markdown",
   "id": "8b2e5771",
   "metadata": {},
   "source": [
    "\n",
    "Большая разница между отточными и неотточными клиентами проявляется в следующих средних:\n",
    "\n",
    "* Возраст(age)\n",
    "\n",
    "* Активность(loyalty)\n",
    "    \n",
    "* Принадлежность клиента к городу Ростов Великий (city_rostov)\n",
    "    \n",
    "* Принадлежность клиента женскому полу\n"
   ]
  },
  {
   "cell_type": "code",
   "execution_count": 16,
   "id": "42aa65df",
   "metadata": {},
   "outputs": [],
   "source": [
    "bins_age = data['age'].max() - data['age'].min()"
   ]
  },
  {
   "cell_type": "code",
   "execution_count": 17,
   "id": "12980479",
   "metadata": {},
   "outputs": [
    {
     "data": {
      "image/png": "[encoded data removed]",
      "text/plain": [
       "<Figure size 640x480 with 1 Axes>"
      ]
     },
     "metadata": {},
     "output_type": "display_data"
    }
   ],
   "source": [
    "sns.histplot(data, x='age', hue='churn', stat='density', common_norm=False, bins=bins_age)\n",
    "plt.show()"
   ]
  },
  {
   "cell_type": "markdown",
   "id": "f5e754d8",
   "metadata": {},
   "source": [
    "Отточные клиенты отличаются по возрасту. Это люди примерно от 40 до 65 лет - в этом возрастном промежутке преоблдают оттоки"
   ]
  },
  {
   "cell_type": "code",
   "execution_count": 18,
   "id": "5aca7e98",
   "metadata": {
    "scrolled": false
   },
   "outputs": [
    {
     "data": {
      "image/png": "[encoded data removed]",
      "text/plain": [
       "<Figure size 640x480 with 1 Axes>"
      ]
     },
     "metadata": {},
     "output_type": "display_data"
    }
   ],
   "source": [
    "sns.histplot(data, x='score', hue='churn', stat='density', common_norm=False)\n",
    "plt.show()"
   ]
  },
  {
   "cell_type": "markdown",
   "id": "6389c616",
   "metadata": {},
   "source": [
    "Нельзя сказать с точностью, что отточные и неотточные клиенты отличаются по очкам кредитного скоринга, но неотточные клиенты начинают преобладать над отточными чаще, начиная от 650 очков"
   ]
  },
  {
   "cell_type": "code",
   "execution_count": 19,
   "id": "86dbd11a",
   "metadata": {},
   "outputs": [
    {
     "data": {
      "image/png": "[encoded data removed]",
      "text/plain": [
       "<Figure size 640x480 with 1 Axes>"
      ]
     },
     "metadata": {},
     "output_type": "display_data"
    }
   ],
   "source": [
    "sns.histplot(data, x='estimated_salary', hue='churn', stat='density', common_norm=False)\n",
    "plt.show()"
   ]
  },
  {
   "cell_type": "markdown",
   "id": "99e24d38",
   "metadata": {},
   "source": [
    "По уровню зарплат, также нельзя дать однозначной оценки, но начиная от 150 000 рублей, доля отточных начинает преобладать над неотточными"
   ]
  },
  {
   "cell_type": "code",
   "execution_count": 20,
   "id": "5e153566",
   "metadata": {
    "scrolled": false
   },
   "outputs": [
    {
     "data": {
      "image/png": "[encoded data removed]",
      "text/plain": [
       "<Figure size 640x480 with 1 Axes>"
      ]
     },
     "metadata": {},
     "output_type": "display_data"
    }
   ],
   "source": [
    "sns.histplot(data, x='objects', hue='churn', stat='density', common_norm=False)\n",
    "plt.show()"
   ]
  },
  {
   "cell_type": "markdown",
   "id": "86411abb",
   "metadata": {},
   "source": [
    "По количеству объектов в собственности различий не выявлено"
   ]
  },
  {
   "cell_type": "code",
   "execution_count": 21,
   "id": "01963628",
   "metadata": {},
   "outputs": [
    {
     "data": {
      "image/png": "[encoded data removed]",
      "text/plain": [
       "<Figure size 640x480 with 1 Axes>"
      ]
     },
     "metadata": {},
     "output_type": "display_data"
    }
   ],
   "source": [
    "sns.histplot(data, x='balance', hue='churn', stat='density', common_norm=False)\n",
    "plt.show()"
   ]
  },
  {
   "cell_type": "markdown",
   "id": "996b89a9",
   "metadata": {},
   "source": [
    "Наблюдается высокая доля отточных клиентов, имеющих на счету 100 000 - 150 000 рублей"
   ]
  },
  {
   "cell_type": "code",
   "execution_count": 22,
   "id": "ebf04287",
   "metadata": {},
   "outputs": [
    {
     "data": {
      "image/png": "[encoded data removed]",
      "text/plain": [
       "<Figure size 640x480 with 1 Axes>"
      ]
     },
     "metadata": {},
     "output_type": "display_data"
    }
   ],
   "source": [
    "prod_group = data.groupby(['products', 'churn'], as_index=False).agg({'userid':'count'})\n",
    "sns.barplot(x='products', y='userid', hue='churn', data=prod_group)\n",
    "plt.show()"
   ]
  },
  {
   "cell_type": "markdown",
   "id": "16f7354b",
   "metadata": {},
   "source": [
    "Отточный клиент имеет либо 1 продукт, либо больше 2"
   ]
  },
  {
   "cell_type": "code",
   "execution_count": 23,
   "id": "d3301449",
   "metadata": {},
   "outputs": [],
   "source": [
    "gender_count = data.groupby('gender', as_index=False).agg({'userid':'count'})"
   ]
  },
  {
   "cell_type": "code",
   "execution_count": 24,
   "id": "5314a200",
   "metadata": {},
   "outputs": [
    {
     "data": {
      "text/html": [
       "<div>\n",
       "<style scoped>\n",
       "    .dataframe tbody tr th:only-of-type {\n",
       "        vertical-align: middle;\n",
       "    }\n",
       "\n",
       "    .dataframe tbody tr th {\n",
       "        vertical-align: top;\n",
       "    }\n",
       "\n",
       "    .dataframe thead th {\n",
       "        text-align: right;\n",
       "    }\n",
       "</style>\n",
       "<table border=\"1\" class=\"dataframe\">\n",
       "  <thead>\n",
       "    <tr style=\"text-align: right;\">\n",
       "      <th></th>\n",
       "      <th>gender</th>\n",
       "      <th>churn</th>\n",
       "      <th>userid</th>\n",
       "      <th>perc</th>\n",
       "    </tr>\n",
       "  </thead>\n",
       "  <tbody>\n",
       "    <tr>\n",
       "      <th>0</th>\n",
       "      <td>Ж</td>\n",
       "      <td>1139</td>\n",
       "      <td>4543</td>\n",
       "      <td>0.250715</td>\n",
       "    </tr>\n",
       "    <tr>\n",
       "      <th>1</th>\n",
       "      <td>М</td>\n",
       "      <td>898</td>\n",
       "      <td>5457</td>\n",
       "      <td>0.164559</td>\n",
       "    </tr>\n",
       "  </tbody>\n",
       "</table>\n",
       "</div>"
      ],
      "text/plain": [
       "  gender  churn  userid      perc\n",
       "0      Ж   1139    4543  0.250715\n",
       "1      М    898    5457  0.164559"
      ]
     },
     "execution_count": 24,
     "metadata": {},
     "output_type": "execute_result"
    }
   ],
   "source": [
    "churn_gender = data.groupby('gender', as_index=False).agg({'churn':'sum'})\n",
    "churn_gender = churn_gender.merge(gender_count, on='gender', how='left')\n",
    "churn_gender['perc'] = churn_gender['churn']/churn_gender['userid']\n",
    "churn_gender"
   ]
  },
  {
   "cell_type": "markdown",
   "id": "7b971921",
   "metadata": {},
   "source": [
    "Клиенты женского пола на 8,5% чаще становятся отточными мужчин"
   ]
  },
  {
   "cell_type": "code",
   "execution_count": 25,
   "id": "94390da4",
   "metadata": {
    "scrolled": false
   },
   "outputs": [
    {
     "data": {
      "image/png": "[encoded data removed]",
      "text/plain": [
       "<Figure size 640x480 with 1 Axes>"
      ]
     },
     "metadata": {},
     "output_type": "display_data"
    }
   ],
   "source": [
    "loy_group = data.groupby(['loyalty', 'churn'], as_index=False).agg({'userid':'count'})\n",
    "sns.barplot(x='loyalty', y='userid', hue='churn', data=loy_group)\n",
    "plt.show()"
   ]
  },
  {
   "cell_type": "markdown",
   "id": "c3cb182e",
   "metadata": {},
   "source": [
    "Отточный клиент - чаще всего неактивный"
   ]
  },
  {
   "cell_type": "code",
   "execution_count": 26,
   "id": "cadf131a",
   "metadata": {},
   "outputs": [
    {
     "data": {
      "image/png": "[encoded data removed]",
      "text/plain": [
       "<Figure size 640x480 with 1 Axes>"
      ]
     },
     "metadata": {},
     "output_type": "display_data"
    }
   ],
   "source": [
    "cred_group = data.groupby(['creditcard', 'churn'], as_index=False).agg({'userid':'count'})\n",
    "sns.barplot(x='creditcard', y='userid', hue='churn', data=cred_group)\n",
    "plt.show()"
   ]
  },
  {
   "cell_type": "markdown",
   "id": "571b7ca1",
   "metadata": {},
   "source": [
    "По наличию кредитной карты нельзя однозначно сказать, отточный клиент или нет"
   ]
  },
  {
   "cell_type": "code",
   "execution_count": 27,
   "id": "a131eef1",
   "metadata": {},
   "outputs": [
    {
     "data": {
      "text/plain": [
       "churn    0.161548\n",
       "dtype: float64"
      ]
     },
     "execution_count": 27,
     "metadata": {},
     "output_type": "execute_result"
    }
   ],
   "source": [
    "data.loc[data['city']=='Ярославль'].agg({'churn':'mean'})"
   ]
  },
  {
   "cell_type": "code",
   "execution_count": 28,
   "id": "e3e40eb7",
   "metadata": {},
   "outputs": [
    {
     "data": {
      "text/plain": [
       "churn    0.166734\n",
       "dtype: float64"
      ]
     },
     "execution_count": 28,
     "metadata": {},
     "output_type": "execute_result"
    }
   ],
   "source": [
    "data.loc[data['city']=='Рыбинск'].agg({'churn':'mean'})"
   ]
  },
  {
   "cell_type": "code",
   "execution_count": 29,
   "id": "8043d780",
   "metadata": {},
   "outputs": [
    {
     "data": {
      "text/plain": [
       "churn    0.324432\n",
       "dtype: float64"
      ]
     },
     "execution_count": 29,
     "metadata": {},
     "output_type": "execute_result"
    }
   ],
   "source": [
    "data.loc[data['city']=='Ростов Великий'].agg({'churn':'mean'})"
   ]
  },
  {
   "cell_type": "markdown",
   "id": "be316e75",
   "metadata": {},
   "source": [
    "Больше всего отточных клиентов сосредоточено в Ростове Великом"
   ]
  },
  {
   "cell_type": "markdown",
   "id": "6950f777",
   "metadata": {},
   "source": [
    "\n",
    "Портрет отточного клиента: женщина от 40 до 65 лет, не являющаяся активным клиентом, имеющая на балансе от 100 000 до 150 000, владеет 3/4 продуктами, имеющие меньше 650 очков, зарплата 150 000 - 200 000, 0-1 объект в собственности, из Ростова Великого, может иметь или не иметь кредитной карты.\n",
    "\n",
    "Портрет неотточного клиента: мужчина до 40, являющийся активным клиентом, баланс либо меньше 100 000, либо больше 150 000, владеет 2 продуктами, имеющие больше 650 очков, зарплата 75 000 - 100 000, 7-8 объектов в собственности, из Ярославля, может иметь или не иметь кредитной карты.\n",
    "<a id='step2_2'></a>\n"
   ]
  },
  {
   "cell_type": "markdown",
   "id": "aef15ef1",
   "metadata": {},
   "source": [
    "### Проверка гипотез ###\n",
    "\n",
    "*Распределение нормальное, будем использовать t-критерий*"
   ]
  },
  {
   "cell_type": "markdown",
   "id": "b3f52007",
   "metadata": {},
   "source": [
    "Выводы:\n",
    "\n",
    "* Возраст клиентов с 2-умя продуктами различается от возраста клиентов с 1-им продуктом\n",
    "\n",
    "\n",
    "* Возраст уходящих клиентов отличается от возраста не уходящих клиентов\n",
    "\n",
    "\n",
    "<a id='step3'></a>"
   ]
  },
  {
   "cell_type": "markdown",
   "id": "71dc0bc6",
   "metadata": {},
   "source": [
    "**Гипотеза №1**\n",
    "\n",
    "H_0: Возраст клиентов с 2-умя продуктами = Возраст клиентов с 1-им продуктом\n",
    "\n",
    "H_1: Возраст клиентов с 2-умя продуктами != Возраст клиентов с 1-им продуктом\n",
    "\n",
    "alpha = 0.05\n"
   ]
  },
  {
   "cell_type": "code",
   "execution_count": 30,
   "id": "ece742fb",
   "metadata": {},
   "outputs": [
    {
     "name": "stdout",
     "output_type": "stream",
     "text": [
      "1.4069637543991388e-19\n",
      "Отвергаем нулевую гипотезу\n"
     ]
    }
   ],
   "source": [
    "results = st.ttest_ind(data.loc[data['products']==2]['age'].to_list(),\\\n",
    "                       data.loc[data['products']==1]['age'].to_list(), equal_var = False)\n",
    "alpha = 0.05\n",
    "print(results.pvalue)\n",
    "if results.pvalue < alpha:\n",
    "    print('Отвергаем нулевую гипотезу')\n",
    "else:\n",
    "    print('Не получилось отвергнуть нулевую гипотезу')"
   ]
  },
  {
   "cell_type": "markdown",
   "id": "b5a77b2f",
   "metadata": {},
   "source": [
    "**Гипотеза №2**\n",
    "\n",
    "H_0: Возраст уходящих клиентов = Возраст не уходящих клиентов\n",
    "\n",
    "H_1: Возраст уходящих клиентов != Возраст не уходящих клиентов\n",
    "\n",
    "alpha = 0.05\n"
   ]
  },
  {
   "cell_type": "code",
   "execution_count": 31,
   "id": "0ee9e48c",
   "metadata": {},
   "outputs": [
    {
     "name": "stdout",
     "output_type": "stream",
     "text": [
      "4.7127272656641046e-179\n",
      "Отвергаем нулевую гипотезу\n"
     ]
    }
   ],
   "source": [
    "results = st.ttest_ind(data.loc[data['churn']==1]['age'].to_list(),\\\n",
    "                       data.loc[data['churn']==0]['age'].to_list(), equal_var = False)\n",
    "alpha = 0.05\n",
    "print(results.pvalue)\n",
    "if results.pvalue < alpha:\n",
    "    print('Отвергаем нулевую гипотезу')\n",
    "else:\n",
    "    print('Не получилось отвергнуть нулевую гипотезу')"
   ]
  },
  {
   "cell_type": "markdown",
   "id": "60ec90e5",
   "metadata": {},
   "source": [
    "### Сегментирование ###\n",
    "\n",
    "Выделим сегменты по продуктам и выделим наиболее отточные, чтобы дать по ним реокомендации\n",
    "\n",
    "<a id='step4'></a>"
   ]
  },
  {
   "cell_type": "code",
   "execution_count": 32,
   "id": "c5995009",
   "metadata": {},
   "outputs": [
    {
     "data": {
      "text/html": [
       "<div>\n",
       "<style scoped>\n",
       "    .dataframe tbody tr th:only-of-type {\n",
       "        vertical-align: middle;\n",
       "    }\n",
       "\n",
       "    .dataframe tbody tr th {\n",
       "        vertical-align: top;\n",
       "    }\n",
       "\n",
       "    .dataframe thead th {\n",
       "        text-align: right;\n",
       "    }\n",
       "</style>\n",
       "<table border=\"1\" class=\"dataframe\">\n",
       "  <thead>\n",
       "    <tr style=\"text-align: right;\">\n",
       "      <th></th>\n",
       "      <th>products</th>\n",
       "      <th>userid</th>\n",
       "    </tr>\n",
       "  </thead>\n",
       "  <tbody>\n",
       "    <tr>\n",
       "      <th>0</th>\n",
       "      <td>1</td>\n",
       "      <td>5084</td>\n",
       "    </tr>\n",
       "    <tr>\n",
       "      <th>1</th>\n",
       "      <td>2</td>\n",
       "      <td>4590</td>\n",
       "    </tr>\n",
       "    <tr>\n",
       "      <th>2</th>\n",
       "      <td>3</td>\n",
       "      <td>266</td>\n",
       "    </tr>\n",
       "    <tr>\n",
       "      <th>3</th>\n",
       "      <td>4</td>\n",
       "      <td>60</td>\n",
       "    </tr>\n",
       "  </tbody>\n",
       "</table>\n",
       "</div>"
      ],
      "text/plain": [
       "   products  userid\n",
       "0         1    5084\n",
       "1         2    4590\n",
       "2         3     266\n",
       "3         4      60"
      ]
     },
     "execution_count": 32,
     "metadata": {},
     "output_type": "execute_result"
    }
   ],
   "source": [
    "data.groupby('products', as_index=False).agg({'userid': 'count'})"
   ]
  },
  {
   "cell_type": "code",
   "execution_count": 33,
   "id": "0fcbcfdb",
   "metadata": {},
   "outputs": [
    {
     "data": {
      "text/html": [
       "<div>\n",
       "<style scoped>\n",
       "    .dataframe tbody tr th:only-of-type {\n",
       "        vertical-align: middle;\n",
       "    }\n",
       "\n",
       "    .dataframe tbody tr th {\n",
       "        vertical-align: top;\n",
       "    }\n",
       "\n",
       "    .dataframe thead th {\n",
       "        text-align: right;\n",
       "    }\n",
       "</style>\n",
       "<table border=\"1\" class=\"dataframe\">\n",
       "  <thead>\n",
       "    <tr style=\"text-align: right;\">\n",
       "      <th></th>\n",
       "      <th>products</th>\n",
       "      <th>churn</th>\n",
       "    </tr>\n",
       "  </thead>\n",
       "  <tbody>\n",
       "    <tr>\n",
       "      <th>0</th>\n",
       "      <td>1</td>\n",
       "      <td>0.277144</td>\n",
       "    </tr>\n",
       "    <tr>\n",
       "      <th>1</th>\n",
       "      <td>2</td>\n",
       "      <td>0.075817</td>\n",
       "    </tr>\n",
       "    <tr>\n",
       "      <th>2</th>\n",
       "      <td>3</td>\n",
       "      <td>0.827068</td>\n",
       "    </tr>\n",
       "    <tr>\n",
       "      <th>3</th>\n",
       "      <td>4</td>\n",
       "      <td>1.000000</td>\n",
       "    </tr>\n",
       "  </tbody>\n",
       "</table>\n",
       "</div>"
      ],
      "text/plain": [
       "   products     churn\n",
       "0         1  0.277144\n",
       "1         2  0.075817\n",
       "2         3  0.827068\n",
       "3         4  1.000000"
      ]
     },
     "execution_count": 33,
     "metadata": {},
     "output_type": "execute_result"
    }
   ],
   "source": [
    "data.groupby('products', as_index=False).agg({'churn': 'mean'})"
   ]
  },
  {
   "cell_type": "code",
   "execution_count": 34,
   "id": "3bf483d2",
   "metadata": {},
   "outputs": [
    {
     "name": "stdout",
     "output_type": "stream",
     "text": [
      "Среди клиентов, имеющих 1 продукт из Ярославля: 49% пользователей\n",
      "Среди клиентов, имеющих 2 продукта из Ярославля: 52% пользователей\n",
      "Среди клиентов, имеющих 3 и более продукта из Ярославля: 41% пользователей\n",
      "   \n",
      "Среди клиентов, имеющих 1 продукт из Рыбинска: 24% пользователей\n",
      "Среди клиентов, имеющих 2 продукта из Рыбинска: 26% пользователей\n",
      "Среди клиентов, имеющих 3 и более продукта из Рыбинска: 22% пользователей\n",
      "   \n",
      "Среди клиентов, имеющих 1 продукт из Ростова Великого: 27% пользователей\n",
      "Среди клиентов, имеющих 2 продукта из Ростова Великого: 23% пользователей\n",
      "Среди клиентов, имеющих 3 и более продукта из Ростова Великого: 37% пользователей\n",
      "   \n",
      "Среди клиентов, имеющих 1 продукт уходящих: 28% пользователей\n",
      "Среди клиентов, имеющих 2 продукта уходящих: 8% пользователей\n",
      "Среди клиентов, имеющих 3 и более продукта уходящих: 86% пользователей\n",
      "   \n",
      "Среди клиентов, имеющих 1 продукт мужчин: 55% пользователей\n",
      "Среди клиентов, имеющих 2 продукта мужчин: 55% пользователей\n",
      "Среди клиентов, имеющих 3 и более продукта мужчин: 43% пользователей\n",
      "   \n",
      "Среди клиентов, имеющих 1 продукт активных: 50% пользователей\n",
      "Среди клиентов, имеющих 2 продукта активных: 53% пользователей\n",
      "Среди клиентов, имеющих 3 и более продукта активных: 44% пользователей\n",
      "   \n",
      "Среди клиентов, имеющих 1 продукт с кредитными картами: 70% пользователей\n",
      "Среди клиентов, имеющих 2 продукта с кредитными картами: 71% пользователей\n",
      "Среди клиентов, имеющих 3 и более продукта с кредитными картами: 71% пользователей\n"
     ]
    }
   ],
   "source": [
    "print('Среди клиентов, имеющих 1 продукт из Ярославля:',\\\n",
    "      \"{:.0%}\".format(round(data.loc[data['products'] == 1]['city_yaroslavl'].mean(), 2)), 'пользователей')\n",
    "print('Среди клиентов, имеющих 2 продукта из Ярославля:',\\\n",
    "      \"{:.0%}\".format(round(data.loc[data['products'] == 2]['city_yaroslavl'].mean(), 2)), 'пользователей')\n",
    "print('Среди клиентов, имеющих 3 и более продукта из Ярославля:',\\\n",
    "      \"{:.0%}\".format(round(data.loc[data['products'] > 2]['city_yaroslavl'].mean(), 2)), 'пользователей')\n",
    "print('   ')\n",
    "print('Среди клиентов, имеющих 1 продукт из Рыбинска:',\\\n",
    "      \"{:.0%}\".format(round(data.loc[data['products'] == 1]['city_rybinsk'].mean(), 2)), 'пользователей')\n",
    "print('Среди клиентов, имеющих 2 продукта из Рыбинска:',\\\n",
    "      \"{:.0%}\".format(round(data.loc[data['products'] == 2]['city_rybinsk'].mean(), 2)), 'пользователей')\n",
    "print('Среди клиентов, имеющих 3 и более продукта из Рыбинска:',\\\n",
    "      \"{:.0%}\".format(round(data.loc[data['products'] > 2]['city_rybinsk'].mean(), 2)), 'пользователей')\n",
    "print('   ')\n",
    "print('Среди клиентов, имеющих 1 продукт из Ростова Великого:',\\\n",
    "      \"{:.0%}\".format(round(data.loc[data['products'] == 1]['city_rostov'].mean(), 2)), 'пользователей')\n",
    "print('Среди клиентов, имеющих 2 продукта из Ростова Великого:',\\\n",
    "      \"{:.0%}\".format(round(data.loc[data['products'] == 2]['city_rostov'].mean(), 2)), 'пользователей')\n",
    "print('Среди клиентов, имеющих 3 и более продукта из Ростова Великого:',\\\n",
    "      \"{:.0%}\".format(round(data.loc[data['products'] > 2]['city_rostov'].mean(), 2)), 'пользователей')\n",
    "print('   ')\n",
    "print('Среди клиентов, имеющих 1 продукт уходящих:',\\\n",
    "      \"{:.0%}\".format(round(data.loc[data['products'] == 1]['churn'].mean(), 2)), 'пользователей')\n",
    "print('Среди клиентов, имеющих 2 продукта уходящих:',\\\n",
    "      \"{:.0%}\".format(round(data.loc[data['products'] == 2]['churn'].mean(), 2)), 'пользователей')\n",
    "print('Среди клиентов, имеющих 3 и более продукта уходящих:',\\\n",
    "      \"{:.0%}\".format(round(data.loc[data['products'] > 2]['churn'].mean(), 2)), 'пользователей')\n",
    "print('   ')\n",
    "print('Среди клиентов, имеющих 1 продукт мужчин:',\\\n",
    "      \"{:.0%}\".format(round(data.loc[data['products'] == 1]['gender_m'].mean(), 2)), 'пользователей')\n",
    "print('Среди клиентов, имеющих 2 продукта мужчин:',\\\n",
    "      \"{:.0%}\".format(round(data.loc[data['products'] == 2]['gender_m'].mean(), 2)), 'пользователей')\n",
    "print('Среди клиентов, имеющих 3 и более продукта мужчин:',\\\n",
    "      \"{:.0%}\".format(round(data.loc[data['products'] > 2]['gender_m'].mean(), 2)), 'пользователей')\n",
    "print('   ')\n",
    "print('Среди клиентов, имеющих 1 продукт активных:',\\\n",
    "      \"{:.0%}\".format(round(data.loc[data['products'] == 1]['loyalty'].mean(), 2)), 'пользователей')\n",
    "print('Среди клиентов, имеющих 2 продукта активных:',\\\n",
    "      \"{:.0%}\".format(round(data.loc[data['products'] == 2]['loyalty'].mean(), 2)), 'пользователей')\n",
    "print('Среди клиентов, имеющих 3 и более продукта активных:',\\\n",
    "      \"{:.0%}\".format(round(data.loc[data['products'] > 2]['loyalty'].mean(), 2)), 'пользователей')\n",
    "print('   ')\n",
    "print('Среди клиентов, имеющих 1 продукт с кредитными картами:',\\\n",
    "      \"{:.0%}\".format(round(data.loc[data['products'] == 1]['creditcard'].mean(), 2)), 'пользователей')\n",
    "print('Среди клиентов, имеющих 2 продукта с кредитными картами:',\\\n",
    "      \"{:.0%}\".format(round(data.loc[data['products'] == 2]['creditcard'].mean(), 2)), 'пользователей')\n",
    "print('Среди клиентов, имеющих 3 и более продукта с кредитными картами:',\\\n",
    "      \"{:.0%}\".format(round(data.loc[data['products'] > 2]['creditcard'].mean(), 2)), 'пользователей')"
   ]
  },
  {
   "cell_type": "markdown",
   "id": "d42feac4",
   "metadata": {},
   "source": [
    "Как мы выделили ранее, большое количество отточных клиентов, имеющих либо 1 продукт, либо больше 2"
   ]
  },
  {
   "cell_type": "markdown",
   "id": "8507d267",
   "metadata": {},
   "source": [
    "Связи оттока таких клиентов и наличии у них кредитной карты не обнаружено\n"
   ]
  },
  {
   "cell_type": "code",
   "execution_count": 35,
   "id": "ab1da2a5",
   "metadata": {},
   "outputs": [
    {
     "name": "stdout",
     "output_type": "stream",
     "text": [
      "Среди клиентов, не имеющих продуктов кроме кредитной карты уходящих: 28% пользователей\n",
      "Среди клиентов, имеющих 1 продукт кроме кредитной карты уходящих: 14% пользователей\n",
      "Среди клиентов, имеющих 2 и более продукта кроме кредитной карты уходящих: 23% пользователей\n"
     ]
    }
   ],
   "source": [
    "print('Среди клиентов, не имеющих продуктов кроме кредитной карты уходящих:',\\\n",
    "      \"{:.0%}\".format(round(data.loc[data['products_no_credit'] == 0]['churn'].mean(), 2)), 'пользователей')\n",
    "print('Среди клиентов, имеющих 1 продукт кроме кредитной карты уходящих:',\\\n",
    "      \"{:.0%}\".format(round(data.loc[data['products_no_credit'] == 1]['churn'].mean(), 2)), 'пользователей')\n",
    "print('Среди клиентов, имеющих 2 и более продукта кроме кредитной карты уходящих:',\\\n",
    "      \"{:.0%}\".format(round(data.loc[data['products_no_credit'] > 1]['churn'].mean(), 2)), 'пользователей')"
   ]
  },
  {
   "cell_type": "code",
   "execution_count": 36,
   "id": "98067a02",
   "metadata": {},
   "outputs": [
    {
     "name": "stdout",
     "output_type": "stream",
     "text": [
      "Среди клиентов с кредитной картой уходящих: 20% пользователей\n"
     ]
    }
   ],
   "source": [
    "print('Среди клиентов с кредитной картой уходящих:',\\\n",
    "      \"{:.0%}\".format(round(data.loc[data['creditcard'] == 1]['churn'].mean(), 2)), 'пользователей')\n"
   ]
  },
  {
   "cell_type": "markdown",
   "id": "d666dda3",
   "metadata": {},
   "source": [
    "**Рассмотрим отток клиентов по городам**\n",
    "\n",
    "Больше всего уходящих клиентов с 3-мя и более продуктами из Ростова Великого - 91%\n",
    "\n",
    "В независимости от колиства продуктов в Ростове выше отток клиентов, рассмотрим его подробней"
   ]
  },
  {
   "cell_type": "code",
   "execution_count": 37,
   "id": "b53963f8",
   "metadata": {},
   "outputs": [
    {
     "data": {
      "text/plain": [
       "churn    0.834586\n",
       "dtype: float64"
      ]
     },
     "execution_count": 37,
     "metadata": {},
     "output_type": "execute_result"
    }
   ],
   "source": [
    "data.loc[(data['products']>2) & (data['city']=='Ярославль')].agg({'churn':'mean'})"
   ]
  },
  {
   "cell_type": "code",
   "execution_count": 38,
   "id": "e8035271",
   "metadata": {},
   "outputs": [
    {
     "data": {
      "text/plain": [
       "churn    0.808219\n",
       "dtype: float64"
      ]
     },
     "execution_count": 38,
     "metadata": {},
     "output_type": "execute_result"
    }
   ],
   "source": [
    "data.loc[(data['products']>2) & (data['city']=='Рыбинск')].agg({'churn':'mean'})"
   ]
  },
  {
   "cell_type": "code",
   "execution_count": 39,
   "id": "339fbcfd",
   "metadata": {},
   "outputs": [
    {
     "data": {
      "text/plain": [
       "churn    0.916667\n",
       "dtype: float64"
      ]
     },
     "execution_count": 39,
     "metadata": {},
     "output_type": "execute_result"
    }
   ],
   "source": [
    "data.loc[(data['products']>2) & (data['city']=='Ростов Великий')].agg({'churn':'mean'})"
   ]
  },
  {
   "cell_type": "code",
   "execution_count": 40,
   "id": "061e7cf7",
   "metadata": {
    "scrolled": false
   },
   "outputs": [
    {
     "data": {
      "text/plain": [
       "churn    0.161548\n",
       "dtype: float64"
      ]
     },
     "execution_count": 40,
     "metadata": {},
     "output_type": "execute_result"
    }
   ],
   "source": [
    "data.loc[data['city']=='Ярославль'].agg({'churn':'mean'})"
   ]
  },
  {
   "cell_type": "code",
   "execution_count": 41,
   "id": "feff10da",
   "metadata": {
    "scrolled": false
   },
   "outputs": [
    {
     "data": {
      "text/plain": [
       "churn    0.166734\n",
       "dtype: float64"
      ]
     },
     "execution_count": 41,
     "metadata": {},
     "output_type": "execute_result"
    }
   ],
   "source": [
    "data.loc[data['city']=='Рыбинск'].agg({'churn':'mean'})"
   ]
  },
  {
   "cell_type": "code",
   "execution_count": 42,
   "id": "ceb62fa6",
   "metadata": {
    "scrolled": true
   },
   "outputs": [
    {
     "data": {
      "text/plain": [
       "churn    0.324432\n",
       "dtype: float64"
      ]
     },
     "execution_count": 42,
     "metadata": {},
     "output_type": "execute_result"
    }
   ],
   "source": [
    "data.loc[data['city']=='Ростов Великий'].agg({'churn':'mean'})"
   ]
  },
  {
   "cell_type": "markdown",
   "id": "5e8f06f2",
   "metadata": {},
   "source": [
    "**Отдельно рассмотрим отток клиентов Ростова по продуктам**\n",
    "\n",
    "Отдельно, в качестве сегмента, выделим клиентов Ростова с одним продуктом"
   ]
  },
  {
   "cell_type": "code",
   "execution_count": 43,
   "id": "e0c0befe",
   "metadata": {},
   "outputs": [
    {
     "data": {
      "text/plain": [
       "churn    0.428466\n",
       "dtype: float64"
      ]
     },
     "execution_count": 43,
     "metadata": {},
     "output_type": "execute_result"
    }
   ],
   "source": [
    "data.loc[(data['products']==1) & (data['city']=='Ростов Великий')].agg({'churn':'mean'})"
   ]
  },
  {
   "cell_type": "code",
   "execution_count": 44,
   "id": "0f4cb8b4",
   "metadata": {},
   "outputs": [
    {
     "data": {
      "text/plain": [
       "churn    0.121154\n",
       "dtype: float64"
      ]
     },
     "execution_count": 44,
     "metadata": {},
     "output_type": "execute_result"
    }
   ],
   "source": [
    "data.loc[(data['products']==2) & (data['city']=='Ростов Великий')].agg({'churn':'mean'})"
   ]
  },
  {
   "cell_type": "markdown",
   "id": "cb508391",
   "metadata": {},
   "source": [
    "**Выделим отточные сегменты и дадим по ним рекомендации**"
   ]
  },
  {
   "cell_type": "code",
   "execution_count": 45,
   "id": "4b33749e",
   "metadata": {},
   "outputs": [
    {
     "data": {
      "text/plain": [
       "userid    326.000000\n",
       "churn       0.858896\n",
       "dtype: float64"
      ]
     },
     "execution_count": 45,
     "metadata": {},
     "output_type": "execute_result"
    }
   ],
   "source": [
    "data.loc[data['products']>2].agg({'userid':'count', 'churn':'mean'})"
   ]
  },
  {
   "cell_type": "code",
   "execution_count": 46,
   "id": "a9722373",
   "metadata": {},
   "outputs": [
    {
     "data": {
      "text/plain": [
       "userid    1349.000000\n",
       "churn        0.428466\n",
       "dtype: float64"
      ]
     },
     "execution_count": 46,
     "metadata": {},
     "output_type": "execute_result"
    }
   ],
   "source": [
    "data.loc[(data['products']==1)& (data['city']=='Ростов Великий')].agg({'userid':'count', 'churn':'mean'})"
   ]
  },
  {
   "cell_type": "code",
   "execution_count": 47,
   "id": "dbd3471c",
   "metadata": {},
   "outputs": [
    {
     "data": {
      "text/plain": [
       "userid    1161.000000\n",
       "churn        0.429802\n",
       "dtype: float64"
      ]
     },
     "execution_count": 47,
     "metadata": {},
     "output_type": "execute_result"
    }
   ],
   "source": [
    "data.loc[(data['gender']=='Ж') & (data['loyalty']==0) & (data['products']==1)].agg({'userid':'count', 'churn':'mean'})"
   ]
  },
  {
   "cell_type": "markdown",
   "id": "bc32f85d",
   "metadata": {},
   "source": [
    "\n",
    "Сегмент пользователей 3х и более продуктов, размер 326, уровень оттока 85,8%, рекомендации:\n",
    "    \n",
    "1. Предложить льготные условия ставок по вкладу и кредитов для клиентов, имеющих 3 и более продуктов\n",
    "2. Сделать понятный интерфейс для приложений, возможно более взрослым клиентам в нем сложно разобраться, тем более, когда несколько продуктов\n",
    "3. Провести тренинги для сотрудников Метанпром, как работать с клиентами 40+\n",
    "    \n",
    "Сегмент пользователей из Ростова Великого с одним продуктом, размер 1349, уровень оттока 42,8%, рекомендации:\n",
    "\n",
    "1. Предложить клиентам льготные условия при переводе зарплаты или пенсии в Метанпром\n",
    "2. Сделать возможным оплату ЖКХ через Метанпром без комиссии, провести на этой новости рекламную акцию\n",
    "3. Провести тренинги для сотрудников Метанпром, как работать с клиентами 40+\n",
    "4. В Ростове Великом повесить рекламный банер метанпром возле почты, рынка\n",
    "5. Привлечь для рекламы на ТВ актеров от 40 до 60 лет\n",
    "    \n",
    "Сегмент пользователей женского пола, не активных, имеющих 1 продукт, размер 1161, уровень оттока 43%, рекомендации:\n",
    "    \n",
    "1. Осуществить sms/email-рассылку женщинам, имеющим 1 продукт с информацией о том, что они получили предварительное одобрение на оформление кредита по выгодным условиям\n",
    "\n",
    "<a id='step5'></a>\n"
   ]
  }
 ],
 "metadata": {
  "ExecuteTimeLog": [
   {
    "duration": 1443,
    "start_time": "2023-04-01T19:18:50.341Z"
   },
   {
    "duration": 73,
    "start_time": "2023-04-01T19:18:51.786Z"
   },
   {
    "duration": 4,
    "start_time": "2023-04-01T19:18:51.861Z"
   },
   {
    "duration": 37,
    "start_time": "2023-04-01T19:18:51.867Z"
   },
   {
    "duration": 4,
    "start_time": "2023-04-01T19:18:51.906Z"
   },
   {
    "duration": 62,
    "start_time": "2023-04-01T19:18:51.911Z"
   },
   {
    "duration": 47,
    "start_time": "2023-04-01T19:18:51.974Z"
   },
   {
    "duration": 7,
    "start_time": "2023-04-01T19:18:52.023Z"
   },
   {
    "duration": 6,
    "start_time": "2023-04-01T19:19:02.117Z"
   },
   {
    "duration": 3,
    "start_time": "2023-04-01T19:23:19.707Z"
   },
   {
    "duration": 55,
    "start_time": "2023-04-01T19:23:19.712Z"
   },
   {
    "duration": 4,
    "start_time": "2023-04-01T19:23:19.769Z"
   },
   {
    "duration": 56,
    "start_time": "2023-04-01T19:23:19.775Z"
   },
   {
    "duration": 5,
    "start_time": "2023-04-01T19:23:19.832Z"
   },
   {
    "duration": 58,
    "start_time": "2023-04-01T19:23:19.838Z"
   },
   {
    "duration": 49,
    "start_time": "2023-04-01T19:23:19.897Z"
   },
   {
    "duration": 6,
    "start_time": "2023-04-01T19:23:19.948Z"
   },
   {
    "duration": 16,
    "start_time": "2023-04-01T19:23:19.956Z"
   },
   {
    "duration": 230,
    "start_time": "2023-04-01T19:23:19.973Z"
   },
   {
    "duration": 17,
    "start_time": "2023-04-01T19:23:20.205Z"
   },
   {
    "duration": 16,
    "start_time": "2023-04-01T19:23:20.223Z"
   },
   {
    "duration": 1500,
    "start_time": "2023-04-01T19:23:20.241Z"
   },
   {
    "duration": 1413,
    "start_time": "2023-04-01T19:23:27.294Z"
   },
   {
    "duration": 36,
    "start_time": "2023-04-01T19:23:28.709Z"
   },
   {
    "duration": 4,
    "start_time": "2023-04-01T19:23:28.746Z"
   },
   {
    "duration": 38,
    "start_time": "2023-04-01T19:23:28.751Z"
   },
   {
    "duration": 5,
    "start_time": "2023-04-01T19:23:28.790Z"
   },
   {
    "duration": 33,
    "start_time": "2023-04-01T19:23:28.797Z"
   },
   {
    "duration": 74,
    "start_time": "2023-04-01T19:23:28.832Z"
   },
   {
    "duration": 6,
    "start_time": "2023-04-01T19:23:28.907Z"
   },
   {
    "duration": 9,
    "start_time": "2023-04-01T19:23:28.914Z"
   },
   {
    "duration": 228,
    "start_time": "2023-04-01T19:23:28.926Z"
   },
   {
    "duration": 17,
    "start_time": "2023-04-01T19:23:29.161Z"
   },
   {
    "duration": 18,
    "start_time": "2023-04-01T19:23:29.179Z"
   },
   {
    "duration": 1609,
    "start_time": "2023-04-01T19:23:29.198Z"
   },
   {
    "duration": 288,
    "start_time": "2023-04-01T19:23:30.809Z"
   },
   {
    "duration": 165,
    "start_time": "2023-04-01T19:23:31.098Z"
   },
   {
    "duration": 215,
    "start_time": "2023-04-01T19:23:31.265Z"
   },
   {
    "duration": 218,
    "start_time": "2023-04-01T19:23:31.482Z"
   },
   {
    "duration": 260,
    "start_time": "2023-04-01T19:23:31.702Z"
   },
   {
    "duration": 12,
    "start_time": "2023-04-01T19:23:31.964Z"
   },
   {
    "duration": 29,
    "start_time": "2023-04-01T19:23:31.977Z"
   },
   {
    "duration": 9,
    "start_time": "2023-04-01T19:23:32.008Z"
   },
   {
    "duration": 24,
    "start_time": "2023-04-01T19:23:32.018Z"
   },
   {
    "duration": 312,
    "start_time": "2023-04-01T19:23:32.043Z"
   },
   {
    "duration": 323,
    "start_time": "2023-04-01T19:23:32.361Z"
   },
   {
    "duration": 106,
    "start_time": "2023-04-01T19:23:32.685Z"
   },
   {
    "duration": 42,
    "start_time": "2023-04-01T19:23:32.793Z"
   },
   {
    "duration": 222,
    "start_time": "2023-04-01T19:23:32.837Z"
   },
   {
    "duration": 8,
    "start_time": "2023-04-01T19:23:33.064Z"
   },
   {
    "duration": 11,
    "start_time": "2023-04-01T19:23:33.073Z"
   },
   {
    "duration": 11,
    "start_time": "2023-04-01T19:23:33.086Z"
   },
   {
    "duration": 8,
    "start_time": "2023-04-01T19:23:33.098Z"
   },
   {
    "duration": 10,
    "start_time": "2023-04-01T19:23:33.108Z"
   },
   {
    "duration": 42,
    "start_time": "2023-04-01T19:23:33.121Z"
   },
   {
    "duration": 11,
    "start_time": "2023-04-01T19:23:33.165Z"
   },
   {
    "duration": 49,
    "start_time": "2023-04-01T19:23:33.178Z"
   },
   {
    "duration": 35,
    "start_time": "2023-04-01T19:23:33.230Z"
   },
   {
    "duration": 7,
    "start_time": "2023-04-01T19:23:33.266Z"
   },
   {
    "duration": 326,
    "start_time": "2023-04-01T19:23:33.274Z"
   },
   {
    "duration": 339,
    "start_time": "2023-04-01T19:23:33.602Z"
   },
   {
    "duration": 379,
    "start_time": "2023-04-01T19:23:33.943Z"
   },
   {
    "duration": 17,
    "start_time": "2023-04-01T19:23:34.324Z"
   },
   {
    "duration": 23,
    "start_time": "2023-04-01T19:23:34.343Z"
   },
   {
    "duration": 9,
    "start_time": "2023-04-01T19:23:34.368Z"
   },
   {
    "duration": 36,
    "start_time": "2023-04-01T19:23:34.379Z"
   },
   {
    "duration": 9,
    "start_time": "2023-04-01T19:23:34.417Z"
   },
   {
    "duration": 16,
    "start_time": "2023-04-01T19:23:34.428Z"
   },
   {
    "duration": 17,
    "start_time": "2023-04-01T19:23:34.447Z"
   },
   {
    "duration": 31,
    "start_time": "2023-04-01T19:23:34.466Z"
   },
   {
    "duration": 31,
    "start_time": "2023-04-01T19:23:34.499Z"
   },
   {
    "duration": 312,
    "start_time": "2023-04-01T19:23:34.532Z"
   },
   {
    "duration": 4,
    "start_time": "2023-04-01T19:23:34.845Z"
   },
   {
    "duration": 12,
    "start_time": "2023-04-01T19:23:34.850Z"
   },
   {
    "duration": 8,
    "start_time": "2023-04-01T19:23:34.864Z"
   },
   {
    "duration": 8,
    "start_time": "2023-04-01T19:23:34.874Z"
   },
   {
    "duration": 7,
    "start_time": "2023-04-01T19:23:34.884Z"
   },
   {
    "duration": 8,
    "start_time": "2023-04-01T19:23:34.893Z"
   },
   {
    "duration": 13,
    "start_time": "2023-04-01T19:31:52.827Z"
   },
   {
    "duration": 19,
    "start_time": "2023-04-01T19:32:04.817Z"
   },
   {
    "duration": 125,
    "start_time": "2023-04-06T13:07:54.345Z"
   },
   {
    "duration": 1923,
    "start_time": "2023-04-06T13:08:46.682Z"
   },
   {
    "duration": 95,
    "start_time": "2023-04-06T13:08:48.608Z"
   },
   {
    "duration": 6,
    "start_time": "2023-04-06T13:08:48.705Z"
   },
   {
    "duration": 63,
    "start_time": "2023-04-06T13:08:48.713Z"
   },
   {
    "duration": 7,
    "start_time": "2023-04-06T13:08:48.778Z"
   },
   {
    "duration": 63,
    "start_time": "2023-04-06T13:08:48.787Z"
   },
   {
    "duration": 61,
    "start_time": "2023-04-06T13:08:48.852Z"
   },
   {
    "duration": 28,
    "start_time": "2023-04-06T13:08:48.914Z"
   },
   {
    "duration": 26,
    "start_time": "2023-04-06T13:08:48.945Z"
   },
   {
    "duration": 307,
    "start_time": "2023-04-06T13:08:48.974Z"
   },
   {
    "duration": 32,
    "start_time": "2023-04-06T13:08:49.283Z"
   },
   {
    "duration": 46,
    "start_time": "2023-04-06T13:08:49.317Z"
   },
   {
    "duration": 1723,
    "start_time": "2023-04-06T13:08:49.366Z"
   },
   {
    "duration": 24,
    "start_time": "2023-04-06T13:08:51.948Z"
   },
   {
    "duration": 19,
    "start_time": "2023-04-06T13:09:02.122Z"
   },
   {
    "duration": 21,
    "start_time": "2023-04-06T13:10:09.072Z"
   },
   {
    "duration": 1305,
    "start_time": "2023-04-06T14:15:10.078Z"
   },
   {
    "duration": 73,
    "start_time": "2023-04-06T14:15:11.386Z"
   },
   {
    "duration": 20,
    "start_time": "2023-04-06T14:15:11.461Z"
   },
   {
    "duration": 59,
    "start_time": "2023-04-06T14:15:11.483Z"
   },
   {
    "duration": 16,
    "start_time": "2023-04-06T14:15:11.544Z"
   },
   {
    "duration": 32,
    "start_time": "2023-04-06T14:15:11.566Z"
   },
   {
    "duration": 86,
    "start_time": "2023-04-06T14:15:11.600Z"
   },
   {
    "duration": 7,
    "start_time": "2023-04-06T14:15:11.687Z"
   },
   {
    "duration": 56,
    "start_time": "2023-04-06T14:15:11.696Z"
   },
   {
    "duration": 214,
    "start_time": "2023-04-06T14:15:11.754Z"
   },
   {
    "duration": 20,
    "start_time": "2023-04-06T14:15:11.970Z"
   },
   {
    "duration": 19,
    "start_time": "2023-04-06T14:15:11.992Z"
   },
   {
    "duration": 1529,
    "start_time": "2023-04-06T14:15:12.012Z"
   },
   {
    "duration": 19,
    "start_time": "2023-04-06T14:15:13.544Z"
   },
   {
    "duration": 394,
    "start_time": "2023-04-06T14:15:13.565Z"
   },
   {
    "duration": 367,
    "start_time": "2023-04-06T14:15:13.961Z"
   },
   {
    "duration": 257,
    "start_time": "2023-04-06T14:15:14.330Z"
   },
   {
    "duration": 244,
    "start_time": "2023-04-06T14:15:14.589Z"
   },
   {
    "duration": 348,
    "start_time": "2023-04-06T14:15:14.840Z"
   },
   {
    "duration": 281,
    "start_time": "2023-04-06T14:15:15.189Z"
   },
   {
    "duration": 8,
    "start_time": "2023-04-06T14:15:15.471Z"
   },
   {
    "duration": 20,
    "start_time": "2023-04-06T14:15:15.481Z"
   },
   {
    "duration": 177,
    "start_time": "2023-04-06T14:15:15.502Z"
   },
   {
    "duration": 176,
    "start_time": "2023-04-06T14:15:15.681Z"
   },
   {
    "duration": 10,
    "start_time": "2023-04-06T14:15:15.858Z"
   },
   {
    "duration": 13,
    "start_time": "2023-04-06T14:15:15.869Z"
   },
   {
    "duration": 9,
    "start_time": "2023-04-06T14:15:15.883Z"
   },
   {
    "duration": 11,
    "start_time": "2023-04-06T14:15:15.894Z"
   },
   {
    "duration": 37,
    "start_time": "2023-04-06T14:15:15.906Z"
   },
   {
    "duration": 6,
    "start_time": "2023-04-06T14:15:15.945Z"
   },
   {
    "duration": 15,
    "start_time": "2023-04-06T14:15:15.953Z"
   },
   {
    "duration": 13,
    "start_time": "2023-04-06T14:15:15.970Z"
   },
   {
    "duration": 124,
    "start_time": "2023-04-06T14:15:15.984Z"
   },
   {
    "duration": 11,
    "start_time": "2023-04-06T14:15:16.109Z"
   },
   {
    "duration": 63,
    "start_time": "2023-04-06T14:15:16.122Z"
   },
   {
    "duration": 9,
    "start_time": "2023-04-06T14:15:16.187Z"
   },
   {
    "duration": 5,
    "start_time": "2023-04-06T14:15:16.197Z"
   },
   {
    "duration": 10,
    "start_time": "2023-04-06T14:15:16.203Z"
   },
   {
    "duration": 11,
    "start_time": "2023-04-06T14:15:16.241Z"
   },
   {
    "duration": 8,
    "start_time": "2023-04-06T14:15:16.253Z"
   },
   {
    "duration": 16,
    "start_time": "2023-04-06T14:15:16.266Z"
   },
   {
    "duration": 13,
    "start_time": "2023-04-06T14:15:16.284Z"
   },
   {
    "duration": 9,
    "start_time": "2023-04-06T14:15:16.299Z"
   },
   {
    "duration": 45,
    "start_time": "2023-04-06T14:15:16.310Z"
   },
   {
    "duration": 14,
    "start_time": "2023-04-06T14:15:16.358Z"
   },
   {
    "duration": 21,
    "start_time": "2023-04-06T14:15:16.374Z"
   },
   {
    "duration": 30,
    "start_time": "2023-04-06T14:15:16.397Z"
   }
  ],
  "kernelspec": {
   "display_name": "Python 3 (ipykernel)",
   "language": "python",
   "name": "python3"
  },
  "language_info": {
   "codemirror_mode": {
    "name": "ipython",
    "version": 3
   },
   "file_extension": ".py",
   "mimetype": "text/x-python",
   "name": "python",
   "nbconvert_exporter": "python",
   "pygments_lexer": "ipython3",
   "version": "3.9.13"
  },
  "toc": {
   "base_numbering": 1,
   "nav_menu": {},
   "number_sections": true,
   "sideBar": true,
   "skip_h1_title": false,
   "title_cell": "Table of Contents",
   "title_sidebar": "Contents",
   "toc_cell": false,
   "toc_position": {},
   "toc_section_display": true,
   "toc_window_display": false
  }
 },
 "nbformat": 4,
 "nbformat_minor": 5
}
